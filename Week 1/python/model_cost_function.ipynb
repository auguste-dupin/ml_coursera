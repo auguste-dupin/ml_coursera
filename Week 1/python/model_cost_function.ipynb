{
 "cells": [
  {
   "cell_type": "markdown",
   "metadata": {},
   "source": [
    "# Model and Cost Function\n",
    "\n",
    "\n",
    "## Model Representation\n",
    "\n",
    "Como discutido nas aulas, a seguinte notação é utilizada a representação do problema:\n",
    "\n",
    "* $m$: Quantidade de exemplos existentes;\n",
    "* $x^{(i)}$: Representação de um exemplo/instância. O sobrescrito $i$ indica qual exemplo estamos nos referindo;\n",
    "* $y^{(i)}$: Saída/resultado do modelo.\n",
    "\n",
    "Dado um conjunto de dados disponível para a criação/treinamento de um modelo (no caso do estudo, um modelo de regressão linear de uma única variável), deseja-se gerar uma função h que aproxime os valores de entrada dos valores de saída. No caso da regressão linear, temos:\n",
    "\n",
    "$$h_\\theta(x) = \\theta_0 + \\theta_1x$$\n",
    "\n",
    "onde $x$ é a variável de entrada, e $y = h_\\theta (x) $.\n",
    "\n",
    "Exemplificando um pouco os conceitos a partir do dataset do projeto da semana 2:"
   ]
  },
  {
   "cell_type": "code",
   "execution_count": 16,
   "metadata": {},
   "outputs": [
    {
     "data": {
      "text/html": [
       "<div>\n",
       "<style scoped>\n",
       "    .dataframe tbody tr th:only-of-type {\n",
       "        vertical-align: middle;\n",
       "    }\n",
       "\n",
       "    .dataframe tbody tr th {\n",
       "        vertical-align: top;\n",
       "    }\n",
       "\n",
       "    .dataframe thead th {\n",
       "        text-align: right;\n",
       "    }\n",
       "</style>\n",
       "<table border=\"1\" class=\"dataframe\">\n",
       "  <thead>\n",
       "    <tr style=\"text-align: right;\">\n",
       "      <th></th>\n",
       "      <th>x</th>\n",
       "      <th>y</th>\n",
       "    </tr>\n",
       "  </thead>\n",
       "  <tbody>\n",
       "    <tr>\n",
       "      <th>0</th>\n",
       "      <td>6.1101</td>\n",
       "      <td>17.5920</td>\n",
       "    </tr>\n",
       "    <tr>\n",
       "      <th>1</th>\n",
       "      <td>5.5277</td>\n",
       "      <td>9.1302</td>\n",
       "    </tr>\n",
       "    <tr>\n",
       "      <th>2</th>\n",
       "      <td>8.5186</td>\n",
       "      <td>13.6620</td>\n",
       "    </tr>\n",
       "    <tr>\n",
       "      <th>3</th>\n",
       "      <td>7.0032</td>\n",
       "      <td>11.8540</td>\n",
       "    </tr>\n",
       "    <tr>\n",
       "      <th>4</th>\n",
       "      <td>5.8598</td>\n",
       "      <td>6.8233</td>\n",
       "    </tr>\n",
       "  </tbody>\n",
       "</table>\n",
       "</div>"
      ],
      "text/plain": [
       "        x        y\n",
       "0  6.1101  17.5920\n",
       "1  5.5277   9.1302\n",
       "2  8.5186  13.6620\n",
       "3  7.0032  11.8540\n",
       "4  5.8598   6.8233"
      ]
     },
     "execution_count": 16,
     "metadata": {},
     "output_type": "execute_result"
    }
   ],
   "source": [
    "# Utilizando o pandas para a leitura do dataset.\n",
    "import pandas as pd\n",
    "import matplotlib.pyplot as plt\n",
    "\n",
    "# leitura dos dados\n",
    "dataset = pd.read_csv('../../data/week2/ex1data1.txt', header=None, names=['x', 'y'])\n",
    "\n",
    "# observando as 5 primeiras amostras\n",
    "dataset.head()\n"
   ]
  },
  {
   "cell_type": "code",
   "execution_count": 17,
   "metadata": {},
   "outputs": [
    {
     "data": {
      "text/plain": [
       "(97, 2)"
      ]
     },
     "execution_count": 17,
     "metadata": {},
     "output_type": "execute_result"
    }
   ],
   "source": [
    "# Verificando a quantidade de dados existentes:\n",
    "dataset.shape"
   ]
  },
  {
   "cell_type": "markdown",
   "metadata": {},
   "source": [
    "Considerando a tabela acima (ou dataframe), temos os seguintes exemplos, com a nomenclatura adequada:\n",
    "\n",
    "* $m = 97$. Temos 97 exemplos no dataset;\n",
    "* Para $i = 3$, temos $x^{(3)} = 8.5186$ e $y^{(3)} = 13.6620$. \n",
    "\n",
    "Como é possível notar, a notação está diferente. Segundo a proposta descrita pelo Andrew nas aulas, a contagem de $i$ se inicia em 1, ao contrário do que acontece no Python (em 0)."
   ]
  },
  {
   "cell_type": "markdown",
   "metadata": {},
   "source": [
    "Podemos utilizar o pandas para representar os dados nos quais estamos trabalhando, desenhando-os em um plano 2D."
   ]
  },
  {
   "cell_type": "code",
   "execution_count": 25,
   "metadata": {},
   "outputs": [
    {
     "data": {
      "image/png": "[encoded data removed]",
      "text/plain": [
       "<Figure size 1080x360 with 1 Axes>"
      ]
     },
     "metadata": {
      "needs_background": "light"
     },
     "output_type": "display_data"
    }
   ],
   "source": [
    "# Gráfico ponto a ponto dos valores\n",
    "dataset.plot.scatter('x', # Quantidade de habitantes por cidade\n",
    "                     'y', # Lucro por habitantes\n",
    "                     figsize=(15,5),\n",
    "                     title='Lucro da franquia de food truck de acordo com a quantidade de habitantes',\n",
    "                     xlabel='x - População de uma cidade',\n",
    "                     ylabel='y - Lucro da franquia')\n",
    "\n",
    "# Linha vertical, somente para indicar os lucros positivos e negativos\n",
    "plt.axhline(y=0, ls='-.', alpha=0.4, color='r')\n",
    "plt.show()"
   ]
  },
  {
   "cell_type": "markdown",
   "metadata": {},
   "source": [
    "# Referências\n",
    "\n",
    "* Model Representation: https://www.coursera.org/learn/machine-learning/supplement/cRa2m/model-representation"
   ]
  }
 ],
 "metadata": {
  "interpreter": {
   "hash": "f551e7501a7cbcd024ed0dc0014a4049c5957ad5a4d4edba4025c28399e03371"
  },
  "kernelspec": {
   "display_name": "Python 3.9.7 64-bit ('base': conda)",
   "language": "python",
   "name": "python3"
  },
  "language_info": {
   "codemirror_mode": {
    "name": "ipython",
    "version": 3
   },
   "file_extension": ".py",
   "mimetype": "text/x-python",
   "name": "python",
   "nbconvert_exporter": "python",
   "pygments_lexer": "ipython3",
   "version": "3.9.7"
  },
  "orig_nbformat": 4
 },
 "nbformat": 4,
 "nbformat_minor": 2
}
