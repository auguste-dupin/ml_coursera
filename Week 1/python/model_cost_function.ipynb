{
 "cells": [
  {
   "cell_type": "markdown",
   "metadata": {},
   "source": [
    "# Model Representation\n",
    "\n",
    "Como discutido nas aulas, a notação a ser utilizada para a representação de um exemplo/instância é $x^{(i)}$ como entrada/input do modelo, e $y^{(i)}$ para a a saída do modelo. O exemplo "
   ]
  },
  {
   "cell_type": "markdown",
   "metadata": {},
   "source": [
    "# Referências\n",
    "\n",
    "* Model Representation: https://www.coursera.org/learn/machine-learning/supplement/cRa2m/model-representation\n",
    "* "
   ]
  }
 ],
 "metadata": {
  "language_info": {
   "name": "python"
  },
  "orig_nbformat": 4
 },
 "nbformat": 4,
 "nbformat_minor": 2
}
